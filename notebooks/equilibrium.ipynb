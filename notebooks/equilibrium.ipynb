{
 "cells": [
  {
   "cell_type": "code",
   "execution_count": 28,
   "metadata": {},
   "outputs": [],
   "source": [
    "N = [       # Stoichiometry matrix\n",
    "    1 0 1 -1  0;\n",
    "    0 1 1  0 -1;\n",
    "];\n",
    "\n",
    "logK = [-3; -4];\n",
    "\n",
    "T = [\n",
    "    1 0 0 1 0;\n",
    "    0 1 0 0 1;\n",
    "    0 0 1 1 1;\n",
    "];\n",
    "\n",
    "c_t = [1.0; 1.0; 1.0];"
   ]
  },
  {
   "cell_type": "markdown",
   "metadata": {},
   "source": [
    "# First Pass"
   ]
  },
  {
   "cell_type": "code",
   "execution_count": 31,
   "metadata": {},
   "outputs": [],
   "source": [
    "logC = @(x) N\\logK + null(N)*x;\n",
    "C = @(x) exp(logC(x));\n",
    "res = @(x) T*C(x) - c_t;\n",
    "x0 = [0; 0; 0];"
   ]
  },
  {
   "cell_type": "code",
   "execution_count": 38,
   "metadata": {},
   "outputs": [
    {
     "name": "stdout",
     "output_type": "stream",
     "text": [
      "err =\n",
      "\n",
      "   1.7764e-15\n",
      "   2.6645e-15\n",
      "\n"
     ]
    }
   ],
   "source": [
    "x = fsolve(res, x0);\n",
    "err = N * logC(x) - logK"
   ]
  },
  {
   "cell_type": "markdown",
   "metadata": {},
   "source": [
    "# Second Pass"
   ]
  },
  {
   "cell_type": "code",
   "execution_count": null,
   "metadata": {},
   "outputs": [],
   "source": []
  }
 ],
 "metadata": {
  "kernelspec": {
   "display_name": "Octave",
   "language": "octave",
   "name": "octave"
  },
  "language_info": {
   "file_extension": ".m",
   "help_links": [
    {
     "text": "GNU Octave",
     "url": "https://www.gnu.org/software/octave/support.html"
    },
    {
     "text": "Octave Kernel",
     "url": "https://github.com/Calysto/octave_kernel"
    },
    {
     "text": "MetaKernel Magics",
     "url": "https://metakernel.readthedocs.io/en/latest/source/README.html"
    }
   ],
   "mimetype": "text/x-octave",
   "name": "octave",
   "version": "6.4.0"
  }
 },
 "nbformat": 4,
 "nbformat_minor": 2
}
