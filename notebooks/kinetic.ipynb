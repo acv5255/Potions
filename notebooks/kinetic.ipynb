{
 "cells": [
  {
   "cell_type": "code",
   "execution_count": 90,
   "metadata": {},
   "outputs": [],
   "source": [
    "from typing import Callable\n",
    "from dataclasses import dataclass\n",
    "import numpy as np\n",
    "from numpy.typing import NDArray\n",
    "from scipy.optimize import root, approx_fprime\n",
    "from scipy import linalg as la"
   ]
  },
  {
   "cell_type": "markdown",
   "metadata": {},
   "source": [
    "# Implicit Runge-Kutta method"
   ]
  },
  {
   "cell_type": "code",
   "execution_count": 34,
   "metadata": {},
   "outputs": [],
   "source": [
    "def RungeKuttaImplicit(f: Callable[[NDArray], NDArray], x0: NDArray, dt: float) -> NDArray:\n",
    "    N = x0.size\n",
    "\n",
    "    b1: float = 0.5\n",
    "    b2: float = 0.5\n",
    "\n",
    "    a11 = 0.25\n",
    "    a12 = 0.25 - np.sqrt(3) / 6.0\n",
    "    a21 = 0.25 + np.sqrt(3) / 6.0\n",
    "    a22 = 0.25\n",
    "\n",
    "    k1_res = lambda k1, k2: f(x0 + a11 * k1 * dt + a12 * k2 * dt) - k1\n",
    "    k2_res = lambda k1, k2: f(x0 + a21 * k1 * dt + a22 * k2 * dt) - k2\n",
    "\n",
    "    k1_0 = f(x0)\n",
    "    k2_0 = f(x0)\n",
    "\n",
    "    ks_0 = np.zeros(2 * N)\n",
    "    ks_0[0:N] = k1_0\n",
    "    ks_0[N:] = k2_0\n",
    "\n",
    "    def residual(ks: NDArray) -> NDArray:\n",
    "        res_vals = ks.copy()\n",
    "        res_vals[0:N] = k1_res(ks[:N], ks[N:])\n",
    "        res_vals[N:] = k2_res(ks[:N], ks[N:])\n",
    "\n",
    "        return res_vals\n",
    "    \n",
    "    ks = root(residual, ks_0).x\n",
    "\n",
    "    k1 = ks[0:N]\n",
    "    k2 = ks[N:]\n",
    "\n",
    "    return x0 + dt * (b1 * k1 + b2 * k2)"
   ]
  },
  {
   "cell_type": "markdown",
   "metadata": {},
   "source": [
    "# Define Chemical System"
   ]
  },
  {
   "cell_type": "code",
   "execution_count": 35,
   "metadata": {},
   "outputs": [],
   "source": [
    "@dataclass\n",
    "class ChemicalState:\n",
    "    conc: NDArray\n",
    "    tot_conc: NDArray\n",
    "\n",
    "@dataclass\n",
    "class TotalConstants:\n",
    "    tot_mat: NDArray\n",
    "\n",
    "@dataclass\n",
    "class KineticConstants:\n",
    "    kin_mat: NDArray\n",
    "    kin_rate: NDArray\n",
    "    eq_const: NDArray\n",
    "\n",
    "@dataclass\n",
    "class EquilibriumConstants:\n",
    "    eq_consts: NDArray\n",
    "    stoich_mat: NDArray"
   ]
  },
  {
   "cell_type": "markdown",
   "metadata": {},
   "source": [
    "# Solving Equilibrium"
   ]
  },
  {
   "cell_type": "code",
   "execution_count": 68,
   "metadata": {},
   "outputs": [],
   "source": [
    "def solve_equilibrium(chem: ChemicalState, eq: EquilibriumConstants, tot: TotalConstants) -> ChemicalState:\n",
    "    N: int = chem.tot_conc.size\n",
    "    x0: NDArray = np.full(N, -1)\n",
    "\n",
    "    log_x_p: NDArray = la.pinv(eq.stoich_mat) @ eq.eq_consts\n",
    "    stoich_null: NDArray = la.null_space(eq.stoich_mat)\n",
    "\n",
    "    def log_c(log_x: NDArray) -> NDArray:\n",
    "        return log_x_p + stoich_null @ log_x\n",
    "    \n",
    "    def mass_err(log_x: NDArray) -> NDArray:\n",
    "        c: NDArray = np.exp(log_c(log_x))\n",
    "        return tot.tot_mat @ c - chem.tot_conc\n",
    "\n",
    "    concVec = np.exp(log_c(root(mass_err, x0).x))\n",
    "    \n",
    "    return ChemicalState(concVec, chem.tot_conc)"
   ]
  },
  {
   "cell_type": "markdown",
   "metadata": {},
   "source": [
    "# Kinetic Rates"
   ]
  },
  {
   "cell_type": "code",
   "execution_count": 197,
   "metadata": {},
   "outputs": [],
   "source": [
    "def kinetic_rate(tot_conc: NDArray, surface_area: NDArray, eq: EquilibriumConstants, kin: KineticConstants, tot: TotalConstants) -> NDArray:\n",
    "    c0 = np.zeros(eq.stoich_mat.shape[1])\n",
    "    chem = ChemicalState(c0, tot_conc)\n",
    "    chem_new = solve_equilibrium(chem, eq, tot)\n",
    "    conc: NDArray = chem_new.conc\n",
    "\n",
    "    log_c = np.log(conc)\n",
    "    log_iap = kin.kin_mat @ log_c\n",
    "    iap = np.exp(log_iap)\n",
    "    min_rates = surface_area * (10.0 ** kin.kin_rate) * (1.0 - iap / (kin.eq_const ** 10.0))\n",
    "    # min_rates = surface_area * (10.0 ** kin.kin_rate) * (1.0 - log_iap)\n",
    "    min_rate_mat = np.diag(min_rates)\n",
    "    component_mat = min_rate_mat @ kin.kin_mat\n",
    "    spec_rate = component_mat.T @ np.ones(kin.kin_mat.shape[0])\n",
    "\n",
    "    return tot.tot_mat @ spec_rate\n",
    "\n",
    "def solve_kinetic(chem: ChemicalState, surface_area: NDArray, eq: EquilibriumConstants, kin: KineticConstants, tot: TotalConstants, dt: float) -> ChemicalState:\n",
    "    def get_kin_rate(tot_conc: NDArray) -> NDArray:\n",
    "        return kinetic_rate(tot_conc, surface_area, eq, kin, tot)\n",
    "    \n",
    "    new_tot_conc: NDArray = RungeKuttaImplicit(get_kin_rate, chem.tot_conc, dt)\n",
    "    chem = ChemicalState(np.zeros(1), new_tot_conc)\n",
    "\n",
    "    return solve_equilibrium(chem, eq, tot)"
   ]
  },
  {
   "cell_type": "code",
   "execution_count": 198,
   "metadata": {},
   "outputs": [],
   "source": [
    "dt: float = 500.0\n",
    "kin_rate: NDArray = np.array([-9.19])\n",
    "kin_eq_consts: NDArray = np.array([-7.3])\n",
    "kin_mat: NDArray = np.array([[1, -1, 1, 0, 0]], dtype=float)\n",
    "eq_consts: NDArray = np.array([9.617, -6.345])\n",
    "stoich_mat: NDArray = np.array([\n",
    "    [0, 1, -1, 1, 0],\n",
    "    [0, -1, -1, 0, 1]], dtype=float)\n",
    "\n",
    "tot_mat: NDArray = np.array([\n",
    "    [1, 0, 0, 0, 0],\n",
    "    [2, 1, -1, -2, 0],\n",
    "    [0, 0, 1, 1, 1]], dtype=float)\n",
    "\n",
    "conc_0: NDArray = np.ones(5)\n",
    "tot_0: NDArray = np.array([1e-3, 0.0, 0.002])\n",
    "surf_area: NDArray = np.array([1.0])\n",
    "\n",
    "eq = EquilibriumConstants(eq_consts=eq_consts, stoich_mat=stoich_mat)\n",
    "kin = KineticConstants(kin_mat=kin_mat, kin_rate=kin_rate, eq_const=kin_eq_consts)\n",
    "tot = TotalConstants(tot_mat=tot_mat)\n",
    "chem = ChemicalState(conc_0, tot_0)"
   ]
  },
  {
   "cell_type": "code",
   "execution_count": 199,
   "metadata": {},
   "outputs": [
    {
     "data": {
      "text/plain": [
       "ChemicalState(conc=array([1.00032283e-03, 1.99999973e-03, 2.66391239e-10, 2.00032256e-03,\n",
       "       9.35300978e-16]), tot_conc=array([0.00100032, 0.        , 0.00200032]))"
      ]
     },
     "execution_count": 199,
     "metadata": {},
     "output_type": "execute_result"
    }
   ],
   "source": [
    "solve_kinetic(chem, surf_area, eq, kin, tot, dt)"
   ]
  },
  {
   "cell_type": "code",
   "execution_count": 203,
   "metadata": {},
   "outputs": [
    {
     "data": {
      "text/plain": [
       "array([6.45654229e-10, 0.00000000e+00, 6.45654229e-10])"
      ]
     },
     "execution_count": 203,
     "metadata": {},
     "output_type": "execute_result"
    }
   ],
   "source": [
    "kinetic_rate(chem.tot_conc, surf_area, eq, kin, tot)"
   ]
  }
 ],
 "metadata": {
  "kernelspec": {
   "display_name": "turbidity",
   "language": "python",
   "name": "python3"
  },
  "language_info": {
   "codemirror_mode": {
    "name": "ipython",
    "version": 3
   },
   "file_extension": ".py",
   "mimetype": "text/x-python",
   "name": "python",
   "nbconvert_exporter": "python",
   "pygments_lexer": "ipython3",
   "version": "3.10.12"
  }
 },
 "nbformat": 4,
 "nbformat_minor": 2
}
