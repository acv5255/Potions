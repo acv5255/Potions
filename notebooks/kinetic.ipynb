{
 "cells": [
  {
   "cell_type": "code",
   "execution_count": 10,
   "metadata": {},
   "outputs": [],
   "source": [
    "from typing import Callable\n",
    "from dataclasses import dataclass\n",
    "import numpy as np\n",
    "from numpy.typing import NDArray\n",
    "from scipy.optimize import root\n",
    "from scipy import linalg as la"
   ]
  },
  {
   "cell_type": "markdown",
   "metadata": {},
   "source": [
    "# Implicit Runge-Kutta method"
   ]
  },
  {
   "cell_type": "code",
   "execution_count": 34,
   "metadata": {},
   "outputs": [],
   "source": [
    "def RungeKuttaImplicit(f: Callable[[NDArray], NDArray], x0: NDArray, dt: float) -> NDArray:\n",
    "    N = x0.size\n",
    "\n",
    "    b1: float = 0.5\n",
    "    b2: float = 0.5\n",
    "\n",
    "    a11 = 0.25\n",
    "    a12 = 0.25 - np.sqrt(3) / 6.0\n",
    "    a21 = 0.25 + np.sqrt(3) / 6.0\n",
    "    a22 = 0.25\n",
    "\n",
    "    k1_res = lambda k1, k2: f(x0 + a11 * k1 * dt + a12 * k2 * dt) - k1\n",
    "    k2_res = lambda k1, k2: f(x0 + a21 * k1 * dt + a22 * k2 * dt) - k2\n",
    "\n",
    "    k1_0 = f(x0)\n",
    "    k2_0 = f(x0)\n",
    "\n",
    "    ks_0 = np.zeros(2 * N)\n",
    "    ks_0[0:N] = k1_0\n",
    "    ks_0[N:] = k2_0\n",
    "\n",
    "    def residual(ks: NDArray) -> NDArray:\n",
    "        res_vals = ks.copy()\n",
    "        res_vals[0:N] = k1_res(ks[:N], ks[N:])\n",
    "        res_vals[N:] = k2_res(ks[:N], ks[N:])\n",
    "\n",
    "        return res_vals\n",
    "    \n",
    "    ks = root(residual, ks_0).x\n",
    "\n",
    "    k1 = ks[0:N]\n",
    "    k2 = ks[N:]\n",
    "\n",
    "    return x0 + dt * (b1 * k1 + b2 * k2)"
   ]
  },
  {
   "cell_type": "markdown",
   "metadata": {},
   "source": [
    "# Define Chemical System"
   ]
  },
  {
   "cell_type": "code",
   "execution_count": 35,
   "metadata": {},
   "outputs": [],
   "source": [
    "@dataclass\n",
    "class ChemicalState:\n",
    "    conc: NDArray\n",
    "    tot_conc: NDArray\n",
    "\n",
    "@dataclass\n",
    "class TotalConstants:\n",
    "    tot_mat: NDArray\n",
    "\n",
    "@dataclass\n",
    "class KineticConstants:\n",
    "    kin_mat: NDArray\n",
    "    kin_rate: NDArray\n",
    "    eq_const: NDArray\n",
    "\n",
    "@dataclass\n",
    "class EquilibriumConstants:\n",
    "    eq_consts: NDArray\n",
    "    stoich_mat: NDArray"
   ]
  },
  {
   "cell_type": "markdown",
   "metadata": {},
   "source": [
    "# Solving Equilibrium"
   ]
  },
  {
   "cell_type": "code",
   "execution_count": 60,
   "metadata": {},
   "outputs": [],
   "source": [
    "def SolveEquilibrium(chem: ChemicalState, eq: EquilibriumConstants, tot: TotalConstants) -> ChemicalState:\n",
    "    N: int = chem.tot_conc.size\n",
    "    x0: NDArray = np.zeros(N)\n",
    "\n",
    "    log_x_p: NDArray = la.pinv(eq.stoich_mat) @ eq.eq_consts\n",
    "    stoich_null: NDArray = la.null_space(eq.stoich_mat)\n",
    "\n",
    "    def log_c(log_x: NDArray) -> NDArray:\n",
    "        return log_x_p + stoich_null @ log_x\n",
    "    \n",
    "    def mass_err(log_x: NDArray) -> NDArray:\n",
    "        c: NDArray = np.exp(log_c(log_x))\n",
    "        return tot.tot_mat @ c - chem.tot_conc\n",
    "\n",
    "    concVec = np.exp(log_c(root(mass_err, x0).x))\n",
    "    \n",
    "    return ChemicalState(concVec, chem.tot_conc)"
   ]
  },
  {
   "cell_type": "markdown",
   "metadata": {},
   "source": [
    "# Kinetic Rates"
   ]
  },
  {
   "cell_type": "code",
   "execution_count": 61,
   "metadata": {},
   "outputs": [],
   "source": [
    "def kinetic_rate(tot_conc: NDArray, surface_area: NDArray, eq: EquilibriumConstants, kin: KineticConstants, tot: TotalConstants) -> NDArray:\n",
    "    c0 = np.zeros(eq.stoich_mat.shape[1])\n",
    "    chem = ChemicalState(c0, tot_conc)\n",
    "    chem_new = SolveEquilibrium(chem, eq, tot)\n",
    "    conc: NDArray = chem_new.conc\n",
    "\n",
    "    log_c = np.log(conc)\n",
    "    log_iap = kin.kin_mat @ log_c\n",
    "    iap = np.exp(log_iap)\n",
    "    min_rates = surface_area * (kin.kin_rate ** 10.0) * (1.0 - iap / (kin.eq_const ** 10.0))\n",
    "    min_rate_mat = np.diag(min_rates)\n",
    "    component_mat = min_rate_mat @ kin.kin_mat\n",
    "    spec_rate = component_mat.T @ np.ones(kin.kin_mat.shape[0])\n",
    "\n",
    "    return tot.tot_mat @ spec_rate\n",
    "\n",
    "def solve_kinetic(chem: ChemicalState, surface_area: NDArray, eq: EquilibriumConstants, kin: KineticConstants, tot: TotalConstants, dt: float) -> ChemicalState:\n",
    "    def get_kin_rate(tot_conc: NDArray) -> NDArray:\n",
    "        return kinetic_rate(tot_conc, surface_area, eq, kin, tot)\n",
    "    \n",
    "    new_tot_conc: NDArray = RungeKuttaImplicit(get_kin_rate, chem.tot_conc, dt)\n",
    "    chem = ChemicalState(np.zeros(1), new_tot_conc)\n",
    "\n",
    "    return SolveEquilibrium(chem, eq, tot)"
   ]
  },
  {
   "cell_type": "code",
   "execution_count": 62,
   "metadata": {},
   "outputs": [],
   "source": [
    "dt: float = 500.0\n",
    "kin_consts: NDArray = np.array([-9.19])\n",
    "kin_eq_consts: NDArray = np.array([-7.3])\n",
    "kin_mat: NDArray = np.array([[1, -1, 1, 0, 0]], dtype=float)\n",
    "eq_consts: NDArray = np.array([9.617, -6.345])\n",
    "stoich_mat: NDArray = np.array([\n",
    "    [0, 0, 1, -1, -1],\n",
    "    [-1, 1, 0, 0, 1]], dtype=float)\n",
    "\n",
    "tot_mat: NDArray = np.array([\n",
    "    [1, 2, 0, 0, 1],\n",
    "    [0, 0, -1, 1, 0],\n",
    "    [-2, 1, 0, 0, 1]], dtype=float)\n",
    "\n",
    "conc_0: NDArray = np.array([0.001, 2.001e-3, 2.665e-10, 2e-3, 9.37e-16])\n",
    "tot_0: NDArray = np.array([1e-3, 0.0, 0.002])\n",
    "surf_area: NDArray = np.array([1.0])\n",
    "\n",
    "eq = EquilibriumConstants(eq_consts=eq_consts, stoich_mat=stoich_mat)\n",
    "kin = KineticConstants(kin_mat=kin_mat, kin_rate=kin_consts, eq_const=kin_eq_consts)\n",
    "tot = TotalConstants(tot_mat=tot_mat)\n",
    "chem = ChemicalState(conc_0, tot_0)"
   ]
  },
  {
   "cell_type": "code",
   "execution_count": 63,
   "metadata": {},
   "outputs": [],
   "source": [
    "res = SolveEquilibrium(chem, eq, tot)"
   ]
  },
  {
   "cell_type": "code",
   "execution_count": 64,
   "metadata": {},
   "outputs": [
    {
     "data": {
      "text/plain": [
       "ChemicalState(conc=array([6.00336565e-213, 7.03544788e-213, 3.42507970e-005, 1.52097402e-006,\n",
       "       1.49947370e-003]), tot_conc=array([0.001, 0.   , 0.002]))"
      ]
     },
     "execution_count": 64,
     "metadata": {},
     "output_type": "execute_result"
    }
   ],
   "source": [
    "res"
   ]
  },
  {
   "cell_type": "code",
   "execution_count": 45,
   "metadata": {},
   "outputs": [
    {
     "data": {
      "text/plain": [
       "ChemicalState(conc=array([ 3.24422016,  0.30824049, 16.6660714 ,  0.06000214,  0.01849509]), tot_conc=array([-2.14844847e+12, -2.14844847e+12, -6.44534540e+12]))"
      ]
     },
     "execution_count": 45,
     "metadata": {},
     "output_type": "execute_result"
    }
   ],
   "source": [
    "solve_kinetic(chem, surf_area, eq, kin, tot, 500)"
   ]
  },
  {
   "cell_type": "code",
   "execution_count": 5,
   "metadata": {},
   "outputs": [],
   "source": [
    "b = np.array([-2.3953807570659746, -0.40024062618965134, -3.120616533579331])\n",
    "A = np.array([\n",
    "    [0.29053386811667137, -17.116443645797119, 4.2467072519070115],\n",
    "    [-0.21268555267822675, -38.022506859078931, 6.208457901779596],\n",
    "    [-0.077848315260808931, 36.513576808872017, -1.1128951883421223]\n",
    "]).T"
   ]
  },
  {
   "cell_type": "code",
   "execution_count": 6,
   "metadata": {},
   "outputs": [
    {
     "data": {
      "text/plain": [
       "array([-5.47752879,  3.42030322,  0.98298914])"
      ]
     },
     "execution_count": 6,
     "metadata": {},
     "output_type": "execute_result"
    }
   ],
   "source": [
    "np.linalg.solve(A,b)"
   ]
  }
 ],
 "metadata": {
  "kernelspec": {
   "display_name": "turbidity",
   "language": "python",
   "name": "python3"
  },
  "language_info": {
   "codemirror_mode": {
    "name": "ipython",
    "version": 3
   },
   "file_extension": ".py",
   "mimetype": "text/x-python",
   "name": "python",
   "nbconvert_exporter": "python",
   "pygments_lexer": "ipython3",
   "version": "3.10.12"
  }
 },
 "nbformat": 4,
 "nbformat_minor": 2
}
